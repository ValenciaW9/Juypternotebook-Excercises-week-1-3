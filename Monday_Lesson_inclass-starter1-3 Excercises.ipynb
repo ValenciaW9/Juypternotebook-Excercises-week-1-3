{
 "cells": [
  {
   "cell_type": "markdown",
   "metadata": {},
   "source": [
    "# Week 2 - Monday Lesson (variable assignment, loops, lists)"
   ]
  },
  {
   "cell_type": "markdown",
   "metadata": {},
   "source": [
    "## Tasks Today:\n",
    "\n",
    "1) Int & Float assignments <br>\n",
    " &nbsp;&nbsp;&nbsp;&nbsp; a) Assigning int <br>\n",
    " &nbsp;&nbsp;&nbsp;&nbsp; b) Assigning float <br>\n",
    " &nbsp;&nbsp;&nbsp;&nbsp; c) Performing Calculations on ints and floats <br>\n",
    " &nbsp;&nbsp;&nbsp;&nbsp;&nbsp;&nbsp;&nbsp;&nbsp; - Addition <br>\n",
    " &nbsp;&nbsp;&nbsp;&nbsp;&nbsp;&nbsp;&nbsp;&nbsp; - Subtraction <br>\n",
    " &nbsp;&nbsp;&nbsp;&nbsp;&nbsp;&nbsp;&nbsp;&nbsp; - Multiplication <br>\n",
    " &nbsp;&nbsp;&nbsp;&nbsp;&nbsp;&nbsp;&nbsp;&nbsp; - Division <br>\n",
    " &nbsp;&nbsp;&nbsp;&nbsp;&nbsp;&nbsp;&nbsp;&nbsp; - Floor Division <br>\n",
    " &nbsp;&nbsp;&nbsp;&nbsp;&nbsp;&nbsp;&nbsp;&nbsp; - Modulo <br>\n",
    " &nbsp;&nbsp;&nbsp;&nbsp;&nbsp;&nbsp;&nbsp;&nbsp; - Exponential <br>\n",
    "2) String Input-Output <br>\n",
    " &nbsp;&nbsp;&nbsp;&nbsp; a) String Assignment <br>\n",
    " &nbsp;&nbsp;&nbsp;&nbsp; b) print() <br>\n",
    " &nbsp;&nbsp;&nbsp;&nbsp; c) String Concatenation <br>\n",
    " &nbsp;&nbsp;&nbsp;&nbsp; d) Escape Characters <br>\n",
    " &nbsp;&nbsp;&nbsp;&nbsp; e) Type Conversion <br>\n",
    " &nbsp;&nbsp;&nbsp;&nbsp; f) format() <br>\n",
    " &nbsp;&nbsp;&nbsp;&nbsp; g) Old Way (python 2) <br>\n",
    "3) <b>In-Class Exercise #1</b> <br>\n",
    "4) Booleans <br>\n",
    "5) If Statements <br>\n",
    " &nbsp;&nbsp;&nbsp;&nbsp; a) syntax <br>\n",
    " &nbsp;&nbsp;&nbsp;&nbsp; b) truth tree <br>\n",
    " &nbsp;&nbsp;&nbsp;&nbsp; c) and/or <br>\n",
    " &nbsp;&nbsp;&nbsp;&nbsp; d) elif <br>\n",
    " &nbsp;&nbsp;&nbsp;&nbsp; 3) else <br>\n",
    "6) <b>In-Class Exercise #2</b> <br>\n",
    "7) Lists <br>\n",
    " &nbsp;&nbsp;&nbsp;&nbsp; a) Declaring Lists <br>\n",
    " &nbsp;&nbsp;&nbsp;&nbsp; b) Indexing a List <br>\n",
    " &nbsp;&nbsp;&nbsp;&nbsp; c) .append() <br>\n",
    " &nbsp;&nbsp;&nbsp;&nbsp; d) .insert() <br>\n",
    " &nbsp;&nbsp;&nbsp;&nbsp; e) .pop() <br>\n",
    " &nbsp;&nbsp;&nbsp;&nbsp; f) .remove() <br>\n",
    " &nbsp;&nbsp;&nbsp;&nbsp; g) del() <br>\n",
    " &nbsp;&nbsp;&nbsp;&nbsp; h) Concatenating Two Lists <br>\n",
    " &nbsp;&nbsp;&nbsp;&nbsp; i) Lists Within Lists <br>\n",
    " &nbsp;&nbsp;&nbsp;&nbsp; j) Looping Through Lists <br>\n",
    "8) For Loops <br>\n",
    " &nbsp;&nbsp;&nbsp;&nbsp; a) Using 'in' keyword <br>\n",
    " &nbsp;&nbsp;&nbsp;&nbsp; b) Continue Statement <br>\n",
    " &nbsp;&nbsp;&nbsp;&nbsp; c) Break Statement <br>\n",
    " &nbsp;&nbsp;&nbsp;&nbsp; d) Pass Statement <br>\n",
    " &nbsp;&nbsp;&nbsp;&nbsp; e) Double For Loops <br>\n",
    "9) While Loops <br>\n",
    " &nbsp;&nbsp;&nbsp;&nbsp; a) Looping 'While True' <br>\n",
    " &nbsp;&nbsp;&nbsp;&nbsp; b) While and For Loops Used Together <br>\n",
    "10) Built-In Functions <br>\n",
    " &nbsp;&nbsp;&nbsp;&nbsp; a) input() <br>\n",
    " &nbsp;&nbsp;&nbsp;&nbsp; b) range() <br>\n",
    " &nbsp;&nbsp;&nbsp;&nbsp; b) len() <br>\n",
    " &nbsp;&nbsp;&nbsp;&nbsp; c) help() <br>\n",
    " &nbsp;&nbsp;&nbsp;&nbsp; d) isinstance() <br>\n",
    "12) Try and Except <br>\n"
   ]
  },
  {
   "cell_type": "code",
   "execution_count": 5,
   "metadata": {},
   "outputs": [
    {
     "name": "stdout",
     "output_type": "stream",
     "text": [
      "Hello again\n"
     ]
    }
   ],
   "source": [
    "print('Hello again')"
   ]
  },
  {
   "cell_type": "code",
   "execution_count": 6,
   "metadata": {},
   "outputs": [
    {
     "name": "stdout",
     "output_type": "stream",
     "text": [
      "Hello(name.upper()),how are you?\n"
     ]
    }
   ],
   "source": [
    "def say_hello(name):\n",
    "    print(f\"Hello(name.upper()),how are you?\")\n",
    "    \n",
    "\n",
    "say_hello('Brian')"
   ]
  },
  {
   "cell_type": "markdown",
   "metadata": {},
   "source": [
    "### Int & Float Assignments"
   ]
  },
  {
   "cell_type": "markdown",
   "metadata": {},
   "source": [
    "##### Assigning int"
   ]
  },
  {
   "cell_type": "code",
   "execution_count": 7,
   "metadata": {},
   "outputs": [
    {
     "name": "stdout",
     "output_type": "stream",
     "text": [
      "6\n",
      "<class 'int'>\n"
     ]
    }
   ],
   "source": [
    "num_int = 6\n",
    "\n",
    "print(num_int)\n",
    "print(type(num_int))"
   ]
  },
  {
   "cell_type": "code",
   "execution_count": 11,
   "metadata": {
    "scrolled": true
   },
   "outputs": [
    {
     "name": "stdout",
     "output_type": "stream",
     "text": [
      "Hello\n"
     ]
    }
   ],
   "source": [
    "big_list = []\n",
    "for i in range (1000):\n",
    "    big_list.append(1)\n",
    "print(\"Hello\")"
   ]
  },
  {
   "cell_type": "code",
   "execution_count": 12,
   "metadata": {},
   "outputs": [
    {
     "name": "stdout",
     "output_type": "stream",
     "text": [
      "Hello\n"
     ]
    }
   ],
   "source": [
    "print(\"Hello\")"
   ]
  },
  {
   "cell_type": "code",
   "execution_count": 13,
   "metadata": {},
   "outputs": [
    {
     "name": "stdout",
     "output_type": "stream",
     "text": [
      "234.56\n",
      "<class 'float'>\n"
     ]
    }
   ],
   "source": [
    "#####Assigning a Float\n",
    "\n",
    "num_float = 234.56\n",
    "\n",
    "print (num_float)\n",
    "print (type(num_float))"
   ]
  },
  {
   "cell_type": "code",
   "execution_count": 14,
   "metadata": {},
   "outputs": [
    {
     "name": "stdout",
     "output_type": "stream",
     "text": [
      "35\n",
      "<class 'int'>\n"
     ]
    }
   ],
   "source": [
    "# The decimal (.) is what tells Python to make this a float\n",
    "\n",
    "float_again = 35\n",
    "\n",
    "print (float_again)\n",
    "print (type(float_again))"
   ]
  },
  {
   "cell_type": "code",
   "execution_count": 15,
   "metadata": {},
   "outputs": [
    {
     "name": "stdout",
     "output_type": "stream",
     "text": [
      "6.12\n",
      "<class 'float'>\n"
     ]
    }
   ],
   "source": [
    "num_float = 6.12\n",
    "\n",
    "print(num_float)\n",
    "print(type(num_float))"
   ]
  },
  {
   "cell_type": "markdown",
   "metadata": {},
   "source": [
    "#### Performing Calculations on ints and floats"
   ]
  },
  {
   "cell_type": "markdown",
   "metadata": {},
   "source": [
    "##### Addition"
   ]
  },
  {
   "cell_type": "code",
   "execution_count": 16,
   "metadata": {
    "scrolled": false
   },
   "outputs": [
    {
     "name": "stdout",
     "output_type": "stream",
     "text": [
      "7\n",
      "9\n"
     ]
    }
   ],
   "source": [
    "num1 = 2\n",
    "num2 = 5\n",
    "\n",
    "result = num1 + num2\n",
    "\n",
    "print(result)\n",
    "\n",
    "# Short-hand version \n",
    "result += 2 # result = result + 2\n",
    "print(result)"
   ]
  },
  {
   "cell_type": "code",
   "execution_count": 17,
   "metadata": {
    "scrolled": true
   },
   "outputs": [
    {
     "name": "stdout",
     "output_type": "stream",
     "text": [
      "19\n"
     ]
    }
   ],
   "source": [
    "#Short-hand\n",
    "\n",
    "result += 10 # result = result + 10\n",
    "\n",
    "print(result)"
   ]
  },
  {
   "cell_type": "markdown",
   "metadata": {},
   "source": [
    "##### Subtraction"
   ]
  },
  {
   "cell_type": "code",
   "execution_count": 18,
   "metadata": {
    "scrolled": true
   },
   "outputs": [
    {
     "name": "stdout",
     "output_type": "stream",
     "text": [
      "3\n",
      "2\n"
     ]
    }
   ],
   "source": [
    "result_diff = num2 - num1\n",
    "print(result_diff)\n",
    "\n",
    "# short-hand version\n",
    "result_diff -= 1\n",
    "print(result_diff)"
   ]
  },
  {
   "cell_type": "code",
   "execution_count": 19,
   "metadata": {
    "scrolled": true
   },
   "outputs": [
    {
     "name": "stdout",
     "output_type": "stream",
     "text": [
      "2\n"
     ]
    }
   ],
   "source": [
    "result_diff = num2 - num1\n",
    "\n",
    "print#(result_diff)\n",
    "\n",
    "result_diff -= 1 # result_diff = result_diff - 1\n",
    "\n",
    "print(result_diff)"
   ]
  },
  {
   "cell_type": "code",
   "execution_count": 20,
   "metadata": {},
   "outputs": [],
   "source": [
    "##### Multiplication"
   ]
  },
  {
   "cell_type": "code",
   "execution_count": 21,
   "metadata": {},
   "outputs": [
    {
     "name": "stdout",
     "output_type": "stream",
     "text": [
      "10\n",
      "50\n"
     ]
    }
   ],
   "source": [
    "result_prod = num1 * num2\n",
    "print (result_prod)\n",
    "result_prod *= 5 # result_prod = result_prod * 5\n",
    "print (result_prod)"
   ]
  },
  {
   "cell_type": "code",
   "execution_count": 22,
   "metadata": {},
   "outputs": [
    {
     "name": "stdout",
     "output_type": "stream",
     "text": [
      "10\n",
      "20\n"
     ]
    }
   ],
   "source": [
    "result_mul = num1 * num2\n",
    "print(result_mul)\n",
    "\n",
    "#short-hand version\n",
    "result_mul *= 2\n",
    "print(result_mul)"
   ]
  },
  {
   "cell_type": "markdown",
   "metadata": {},
   "source": [
    "##### Division"
   ]
  },
  {
   "cell_type": "code",
   "execution_count": 23,
   "metadata": {
    "scrolled": true
   },
   "outputs": [
    {
     "name": "stdout",
     "output_type": "stream",
     "text": [
      "2.5\n",
      "2.0\n",
      "<class 'float'>\n"
     ]
    }
   ],
   "source": [
    "result_div = num2 / num1\n",
    "print(result_div)\n",
    "\n",
    "new_result = 20/10 \n",
    "\n",
    "print(new_result)\n",
    "print(type (new_result))"
   ]
  },
  {
   "cell_type": "code",
   "execution_count": 27,
   "metadata": {
    "scrolled": false
   },
   "outputs": [
    {
     "name": "stdout",
     "output_type": "stream",
     "text": [
      "2.5\n",
      "2.0\n",
      "<class 'float'>\n",
      "1.25\n"
     ]
    }
   ],
   "source": [
    "result_div = num2 / num1\n",
    "print (result_div)\n",
    "\n",
    "\n",
    "new_result = 20/10\n",
    "print (new_result)\n",
    "print(type(new_result))\n",
    "# The division operator (/) always returns a float\n",
    "\n",
    "\n",
    "result_div/= 2 # result_div = result_div / 2\n",
    "\n",
    "print(result_div)"
   ]
  },
  {
   "cell_type": "markdown",
   "metadata": {},
   "source": [
    "##### Floor Division"
   ]
  },
  {
   "cell_type": "code",
   "execution_count": 28,
   "metadata": {},
   "outputs": [
    {
     "name": "stdout",
     "output_type": "stream",
     "text": [
      "3.75\n",
      "3\n",
      "1\n"
     ]
    }
   ],
   "source": [
    "result_normal = 15 / 4\n",
    "print (result_normal)\n",
    "# Return the floor of a division expression i.e. the highest interger less than or equal to the value\n",
    "# Syntax - // result floor :\n",
    "result_floor= 15 // 4\n",
    "print(result_floor)\n",
    "    \n",
    "result_floor//= 2 # result_floor = result_floor // 2\n",
    "print (result_floor)"
   ]
  },
  {
   "cell_type": "markdown",
   "metadata": {},
   "source": [
    "##### Modulo"
   ]
  },
  {
   "cell_type": "code",
   "execution_count": 30,
   "metadata": {},
   "outputs": [
    {
     "name": "stdout",
     "output_type": "stream",
     "text": [
      "3\n",
      "1\n"
     ]
    }
   ],
   "source": [
    "# Return the remainder of a division expression\n",
    "# Syntax\n",
    "# - %\n",
    "\n",
    "\n",
    "num3 = 48\n",
    "num4 = 5\n",
    "\n",
    "\n",
    "result_mod = num3 % num4\n",
    "print(result_mod)\n",
    "\n",
    "\n",
    "result_mod %= 2 # result_mod = result_mod % 2\n",
    "print (result_mod)\n",
    "    "
   ]
  },
  {
   "cell_type": "markdown",
   "metadata": {},
   "source": [
    "##### Exponential"
   ]
  },
  {
   "cell_type": "code",
   "execution_count": 31,
   "metadata": {},
   "outputs": [
    {
     "name": "stdout",
     "output_type": "stream",
     "text": [
      "8\n",
      "512\n"
     ]
    }
   ],
   "source": [
    "1# Suntay - **\n",
    "num5 = 3\n",
    "num6 = 2\n",
    "cubed = num6 ** num5\n",
    "print(cubed)\n",
    "cubed **= 3 # cubed = cubed ** 3\n",
    "print (cubed)"
   ]
  },
  {
   "cell_type": "markdown",
   "metadata": {},
   "source": [
    "### String Input-Output"
   ]
  },
  {
   "cell_type": "markdown",
   "metadata": {},
   "source": [
    "##### String Assignment"
   ]
  },
  {
   "cell_type": "code",
   "execution_count": 32,
   "metadata": {},
   "outputs": [
    {
     "name": "stdout",
     "output_type": "stream",
     "text": [
      "Brian\n",
      "<class 'str'>\n"
     ]
    }
   ],
   "source": [
    "name1 = \"Brian\"\n",
    "print(name1)\n",
    "print(type(name1))"
   ]
  },
  {
   "cell_type": "code",
   "execution_count": 33,
   "metadata": {},
   "outputs": [
    {
     "name": "stdout",
     "output_type": "stream",
     "text": [
      "Straton\n",
      "<class 'str'>\n"
     ]
    }
   ],
   "source": [
    "name2= 'Straton'\n",
    "print(name2)\n",
    "print(type(name2))"
   ]
  },
  {
   "cell_type": "code",
   "execution_count": 34,
   "metadata": {},
   "outputs": [
    {
     "name": "stdout",
     "output_type": "stream",
     "text": [
      "You can't do that\n"
     ]
    }
   ],
   "source": [
    "contraction1 = \"You can't do that\"\n",
    "print(contraction1)"
   ]
  },
  {
   "cell_type": "code",
   "execution_count": 35,
   "metadata": {},
   "outputs": [
    {
     "name": "stdout",
     "output_type": "stream",
     "text": [
      "You can't + do that\n"
     ]
    }
   ],
   "source": [
    "contraction3 = 'You can\\'t + do that'\n",
    "print(contraction3)"
   ]
  },
  {
   "cell_type": "code",
   "execution_count": 47,
   "metadata": {},
   "outputs": [
    {
     "name": "stdout",
     "output_type": "stream",
     "text": [
      "He said, \"Hello, how are you?\"\n"
     ]
    }
   ],
   "source": [
    "quote1 = 'He said, \"Hello, how are you?\"'\n",
    "print(quote1)"
   ]
  },
  {
   "cell_type": "code",
   "execution_count": 37,
   "metadata": {},
   "outputs": [
    {
     "name": "stdout",
     "output_type": "stream",
     "text": [
      "He said, \"Hello, how are you?!'\n"
     ]
    }
   ],
   "source": [
    "quote2 = \"He said, \\\"Hello, how are you?!'\"\n",
    "print(quote2)"
   ]
  },
  {
   "cell_type": "code",
   "execution_count": 49,
   "metadata": {},
   "outputs": [
    {
     "name": "stdout",
     "output_type": "stream",
     "text": [
      "\n",
      "This is the first line\n",
      "3 this is my second line,\n",
      "and here is a new line\n",
      "\n"
     ]
    }
   ],
   "source": [
    "\n",
    "multi_line = '''\n",
    "This is the first line\n",
    "3 this is my second line,\n",
    "and here is a new line\n",
    "'''\n",
    "\n",
    "\n",
    "\n",
    "print(multi_line)\n"
   ]
  },
  {
   "cell_type": "markdown",
   "metadata": {},
   "source": [
    "##### Escape Characters"
   ]
  },
  {
   "cell_type": "code",
   "execution_count": 50,
   "metadata": {
    "scrolled": true
   },
   "outputs": [
    {
     "name": "stdout",
     "output_type": "stream",
     "text": [
      "Hello my name is Valencia\n"
     ]
    }
   ],
   "source": [
    "print(\"Hello my name is Valencia\")"
   ]
  },
  {
   "cell_type": "code",
   "execution_count": 40,
   "metadata": {},
   "outputs": [
    {
     "name": "stdout",
     "output_type": "stream",
     "text": [
      "Hello my name is Valencia\n"
     ]
    }
   ],
   "source": [
    "print(\"Hello my \\\n",
    "name is Valencia\")"
   ]
  },
  {
   "cell_type": "code",
   "execution_count": 41,
   "metadata": {},
   "outputs": [
    {
     "name": "stdout",
     "output_type": "stream",
     "text": [
      "Hello my name is Valencia\n"
     ]
    }
   ],
   "source": [
    "print(\"Hello my \\\n",
    "name is Valencia\")"
   ]
  },
  {
   "cell_type": "code",
   "execution_count": 42,
   "metadata": {},
   "outputs": [
    {
     "name": "stdout",
     "output_type": "stream",
     "text": [
      "Hello\n",
      "How are you?\n"
     ]
    }
   ],
   "source": [
    "# \\n\n",
    "print(\"Hello\\nHow are you?\")\n"
   ]
  },
  {
   "cell_type": "code",
   "execution_count": 43,
   "metadata": {},
   "outputs": [
    {
     "name": "stdout",
     "output_type": "stream",
     "text": [
      "Dear Valencia, \n",
      "\t\n"
     ]
    }
   ],
   "source": [
    "print(\"Dear Valencia, \\n\\t\")"
   ]
  },
  {
   "cell_type": "code",
   "execution_count": 44,
   "metadata": {},
   "outputs": [
    {
     "name": "stdout",
     "output_type": "stream",
     "text": [
      "Hello\n",
      "\tHope you are well?\n"
     ]
    }
   ],
   "source": [
    "# \\t# I+ - tab character\n",
    "print (\"Hello\\n\\tHope you are well?\")\n"
   ]
  },
  {
   "cell_type": "code",
   "execution_count": 45,
   "metadata": {},
   "outputs": [
    {
     "name": "stdout",
     "output_type": "stream",
     "text": [
      "Dear Valencia, n\\tI hope you are well.\n"
     ]
    }
   ],
   "source": [
    "\n",
    "# Raw String\n",
    "print (r\"Dear Valencia, n\\tI hope you are well.\")"
   ]
  },
  {
   "cell_type": "code",
   "execution_count": 46,
   "metadata": {},
   "outputs": [
    {
     "name": "stdout",
     "output_type": "stream",
     "text": [
      "cat\\b\n"
     ]
    }
   ],
   "source": [
    "print(r\"cat\\b\")"
   ]
  },
  {
   "cell_type": "markdown",
   "metadata": {},
   "source": [
    "##### String Concatenation"
   ]
  },
  {
   "cell_type": "code",
   "execution_count": 57,
   "metadata": {
    "scrolled": true
   },
   "outputs": [
    {
     "name": "stdout",
     "output_type": "stream",
     "text": [
      "John• •Smith\n",
      "John• •Smith Jr.\n"
     ]
    }
   ],
   "source": [
    "first_name = 'John'\n",
    "last_name = 'Smith'\n",
    "\n",
    "full_name = first_name + \"• •\" + last_name \n",
    "print(full_name)\n",
    "\n",
    "# += works with strings too!\n",
    "full_name += ' Jr.' # full_name = #full_name +', Jr.\n",
    "print(full_name)"
   ]
  },
  {
   "cell_type": "code",
   "execution_count": 59,
   "metadata": {
    "scrolled": true
   },
   "outputs": [
    {
     "name": "stdout",
     "output_type": "stream",
     "text": [
      "John Smith\n"
     ]
    }
   ],
   "source": [
    "first_name  = 'John'\n",
    "last_name = 'Smith'\n",
    "\n",
    "\n",
    "full_name = first_name + ' ' + last_name \n",
    "print(full_name)"
   ]
  },
  {
   "cell_type": "code",
   "execution_count": 60,
   "metadata": {},
   "outputs": [
    {
     "name": "stdout",
     "output_type": "stream",
     "text": [
      "=!=!=!=!=!=!=!=!=!=!=!=!=!=!=!=!=!=!=!=!=!=!=!=!=!=!=!=!=!=!\n"
     ]
    }
   ],
   "source": [
    "#Strinas can be multiplied by an integer to create a new strina of orainal repeated × times\n",
    "print('=!'*30)"
   ]
  },
  {
   "cell_type": "code",
   "execution_count": 61,
   "metadata": {},
   "outputs": [
    {
     "name": "stdout",
     "output_type": "stream",
     "text": [
      "cat\\b\n"
     ]
    }
   ],
   "source": [
    "print(r\"cat\\b\")"
   ]
  },
  {
   "cell_type": "code",
   "execution_count": 64,
   "metadata": {
    "scrolled": true
   },
   "outputs": [
    {
     "ename": "TypeError",
     "evalue": "unsupported operand type(s) for +: 'int' and 'str'",
     "output_type": "error",
     "traceback": [
      "\u001b[0;31m---------------------------------------------------------------------------\u001b[0m",
      "\u001b[0;31mTypeError\u001b[0m                                 Traceback (most recent call last)",
      "Cell \u001b[0;32mIn[64], line 3\u001b[0m\n\u001b[1;32m      1\u001b[0m num_a \u001b[38;5;241m=\u001b[39m \u001b[38;5;124m'\u001b[39m\u001b[38;5;124m10\u001b[39m\u001b[38;5;124m'\u001b[39m\n\u001b[1;32m      2\u001b[0m num_b \u001b[38;5;241m=\u001b[39m \u001b[38;5;241m10\u001b[39m\n\u001b[0;32m----> 3\u001b[0m num_c \u001b[38;5;241m=\u001b[39m \u001b[43mnum_b\u001b[49m\u001b[43m \u001b[49m\u001b[38;5;241;43m+\u001b[39;49m\u001b[43m \u001b[49m\u001b[43mnum_a\u001b[49m\n",
      "\u001b[0;31mTypeError\u001b[0m: unsupported operand type(s) for +: 'int' and 'str'"
     ]
    }
   ],
   "source": [
    "num_a = '10'\n",
    "num_b = 10\n",
    "num_c = num_b + num_a\n",
    "#cannot acc strings and integers-will result in type error"
   ]
  },
  {
   "cell_type": "code",
   "execution_count": 66,
   "metadata": {
    "scrolled": true
   },
   "outputs": [
    {
     "name": "stdout",
     "output_type": "stream",
     "text": [
      "20\n"
     ]
    }
   ],
   "source": [
    "num_a = '10'\n",
    "num_b = 10\n",
    "num_c = int(num_a) + num_b\n",
    "print (num_c) #  "
   ]
  },
  {
   "cell_type": "code",
   "execution_count": null,
   "metadata": {},
   "outputs": [],
   "source": [
    "##### Type Conversion"
   ]
  },
  {
   "cell_type": "code",
   "execution_count": 67,
   "metadata": {
    "scrolled": true
   },
   "outputs": [
    {
     "name": "stdout",
     "output_type": "stream",
     "text": [
      "<class 'str'>\n",
      "<class 'int'>\n"
     ]
    }
   ],
   "source": [
    "print(type(num_a))\n",
    "print(type(num_b))"
   ]
  },
  {
   "cell_type": "code",
   "execution_count": 68,
   "metadata": {
    "scrolled": false
   },
   "outputs": [
    {
     "name": "stdout",
     "output_type": "stream",
     "text": [
      "10\n",
      "<class 'int'>\n",
      "20\n"
     ]
    }
   ],
   "source": [
    "num_a_int = int (num_a)\n",
    "print (num_a_int)\n",
    "print (type (num_a_int))\n",
    "\n",
    "\n",
    "num_c = num_a_int + num_b\n",
    "print (num_c)"
   ]
  },
  {
   "cell_type": "code",
   "execution_count": 71,
   "metadata": {},
   "outputs": [
    {
     "name": "stdout",
     "output_type": "stream",
     "text": [
      "34.64\n"
     ]
    }
   ],
   "source": [
    "some_float = float('34.64')\n",
    "print(some_float)\n"
   ]
  },
  {
   "cell_type": "code",
   "execution_count": null,
   "metadata": {},
   "outputs": [],
   "source": [
    "num_b_as_str = str (num_b)\n",
    "print (num_b_as_str)\n",
    "print (type (num_b_as_str))\n",
    "\n",
    "\n",
    "num_d = rum_a + num_b_as_str\n",
    "print (num_d)"
   ]
  },
  {
   "cell_type": "code",
   "execution_count": null,
   "metadata": {
    "scrolled": true
   },
   "outputs": [],
   "source": [
    "some_float = float ('34.64')\n",
    " print(type(some_float))"
   ]
  },
  {
   "cell_type": "markdown",
   "metadata": {},
   "source": [
    "##### .format() and f-strings"
   ]
  },
  {
   "cell_type": "code",
   "execution_count": null,
   "metadata": {},
   "outputs": [],
   "source": [
    "help(str.format)"
   ]
  },
  {
   "cell_type": "code",
   "execution_count": null,
   "metadata": {},
   "outputs": [],
   "source": [
    "name = 'Brian'\n",
    "last = 'Stanton'\n",
    "hometown = 'Chicago'\n",
    "age = 56\n",
    "print(\"Hello my name is {nT} (1) and I am {a} years old and I am from {h}!\".format (a=age, h=hometown, 1=last, n=name))\n",
    "print(f\"Hello my name is (name) (last} and I am (age) years old and I am from (hometown)!\")"
   ]
  },
  {
   "cell_type": "code",
   "execution_count": null,
   "metadata": {},
   "outputs": [],
   "source": [
    "name = 'Brian'\n",
    "last = 'Stanton'\n",
    "hometown = 'Chicago'\n",
    "age = 56\n",
    "\n",
    "print(\"Hello my name is {} {} and I am {} years old and I am from {}!\". format (name, last, age, hometown))\n",
    "print(f\"Hello my name is (name) (last) and I am (age) years old and I am from {hometown!\")"
   ]
  },
  {
   "cell_type": "code",
   "execution_count": null,
   "metadata": {
    "scrolled": true
   },
   "outputs": [],
   "source": [
    "name = 'Brian'\n",
    "hometown = 'Chicago'\n",
    "age = 56\n",
    "print (\"Hello my name is {} and I am {} years old and I am from (}!\")"
   ]
  },
  {
   "cell_type": "markdown",
   "metadata": {},
   "source": [
    "##### Old Way (python 2)"
   ]
  },
  {
   "cell_type": "code",
   "execution_count": null,
   "metadata": {},
   "outputs": [],
   "source": [
    "print(\"Hello my name is %s and I am from %s\" % (name, hometown))"
   ]
  },
  {
   "cell_type": "code",
   "execution_count": null,
   "metadata": {
    "scrolled": true
   },
   "outputs": [],
   "source": [
    "result = 10 + 5\n",
    "\n",
    "print(\"The result is %i\" % result)"
   ]
  },
  {
   "cell_type": "markdown",
   "metadata": {},
   "source": [
    "# In-Class Exercise 1 <br>\n",
    "<p>Increase the year by 1 and then print out the following statement using type conversion and a formatted string</p>"
   ]
  },
  {
   "cell_type": "code",
   "execution_count": null,
   "metadata": {
    "scrolled": false
   },
   "outputs": [],
   "source": [
    "#OUTPUT:  I drive a blue 2023 Ford Focus.\n",
    "color = 'blue'\n",
    "make = 'Ford'\n",
    "year = '2022'\n",
    "model = 'Focus'\n",
    "\n",
    "year = str(int(year) + 1)\n",
    "\n",
    "\n",
    "print(f\"I drive a {color} {year} {make} {model}.\")\n",
    "\n",
    "\n",
    "\n",
    "\n",
    "\n"
   ]
  },
  {
   "cell_type": "markdown",
   "metadata": {},
   "source": [
    "### Booleans"
   ]
  },
  {
   "cell_type": "code",
   "execution_count": null,
   "metadata": {
    "scrolled": true
   },
   "outputs": [],
   "source": [
    "bool_true =True\n",
    "print (bool_true)\n",
    "print(type(bool_true))\n"
   ]
  },
  {
   "cell_type": "code",
   "execution_count": null,
   "metadata": {},
   "outputs": [],
   "source": [
    "bool_false=False\n",
    "print(bool_false)\n",
    "print(type(bool_false))"
   ]
  },
  {
   "cell_type": "markdown",
   "metadata": {},
   "source": [
    "### If Statements"
   ]
  },
  {
   "cell_type": "code",
   "execution_count": null,
   "metadata": {
    "scrolled": false
   },
   "outputs": [],
   "source": [
    "# if ‹expression›:\n",
    "#          <statement>\n",
    "# Indentation matters! Lines indented under the if will only run if the condition is True\n",
    "\n",
    "if True:\n",
    "      print('Hello this is true')\n"
   ]
  },
  {
   "cell_type": "code",
   "execution_count": null,
   "metadata": {},
   "outputs": [],
   "source": [
    "print('Start Code')\n",
    "   if true:\n",
    "        print('Hello')\n",
    "print( 'How are you')\n",
    "print('End Code')"
   ]
  },
  {
   "cell_type": "code",
   "execution_count": null,
   "metadata": {},
   "outputs": [],
   "source": [
    "print('Hello')\n",
    "print( 'How are you')\n",
    "7 print('End Code')"
   ]
  },
  {
   "cell_type": "code",
   "execution_count": null,
   "metadata": {},
   "outputs": [],
   "source": [
    "if False:\n",
    "      print('Hello this is false')"
   ]
  },
  {
   "cell_type": "code",
   "execution_count": null,
   "metadata": {},
   "outputs": [],
   "source": [
    "print('Start Code')\n",
    "\n",
    "  if False:\n",
    "    print ('Hello')\n",
    "    print( 'How are you')\n",
    "\n",
    "        print('End Code')"
   ]
  },
  {
   "cell_type": "code",
   "execution_count": null,
   "metadata": {
    "scrolled": false
   },
   "outputs": [],
   "source": [
    "# Available operators: Greater(>), Less(<), Equal(==)\n",
    "# Greater or Equal(>=), Less or Equal (<=), Not Equal (!=)\n",
    "\n",
    "num = 10\n",
    "num = 5\n",
    "num = 2\n",
    "\n",
    "\n",
    "print(num1 >  num2)\n",
    "print(num1 == num2 * num3)\n",
    "print(num1 != num3)\n",
    "print(num1 >= num2 * num3)"
   ]
  },
  {
   "cell_type": "code",
   "execution_count": null,
   "metadata": {
    "scrolled": true
   },
   "outputs": [],
   "source": [
    "if num1 > num:\n",
    "print ('num1 is greater than num2')\n",
    "\n",
    " if num1 == num2 * num3:\n",
    "print('num1 is equal to num2 times num3')"
   ]
  },
  {
   "cell_type": "code",
   "execution_count": null,
   "metadata": {
    "scrolled": true
   },
   "outputs": [],
   "source": [
    "if num1 > num2:\n",
    "print('num1 is greater than num2')\n",
    "\n",
    "if num1 == num2 * num3:\n",
    "print('num1 is equal to num2 times num3')\n",
    " \n",
    "if num1 > num2 * num3:\n",
    " print('num1 is greater than num2 times num3')"
   ]
  },
  {
   "cell_type": "markdown",
   "metadata": {},
   "source": [
    "## Using 'and'/'or' with If Statements"
   ]
  },
  {
   "cell_type": "code",
   "execution_count": null,
   "metadata": {
    "scrolled": true
   },
   "outputs": [],
   "source": [
    "# Truth Tree:\n",
    "# T and T = T\n",
    "# T and F = F\n",
    "# F and F = F\n",
    "\n",
    "# T or T = T\n",
    "# T or F = T\n",
    "# F or T = T\n",
    "# F or F = F\n",
    "\n",
    "\n",
    "potential_candidate_gpa = 3.5\n",
    "potential_candidate_act = 35\n",
    "\n",
    "\n",
    " if potential_candidate_gpa › 2.5 and potential_candidate_act > 25:\n",
    "    print('Student meets minimum requirements. Move them along...')\n",
    "else:\n",
    "    print('Reject student...')"
   ]
  },
  {
   "cell_type": "code",
   "execution_count": null,
   "metadata": {},
   "outputs": [],
   "source": [
    "potential_candidate_gpa = 3.5\n",
    "potential_candidate_act = 15\n",
    "\n",
    "if potential_candidate_gpa > 2.5 or potential_candidate_act > 25:\n",
    "    print( 'Student meets min reg')\n",
    "else:\n",
    "     print('Rejected!')"
   ]
  },
  {
   "cell_type": "code",
   "execution_count": null,
   "metadata": {},
   "outputs": [],
   "source": [
    "### Else Statements"
   ]
  },
  {
   "cell_type": "code",
   "execution_count": null,
   "metadata": {},
   "outputs": [],
   "source": [
    "# An else statement runs when the if statement above it evaluates to False\n",
    "\n",
    "If the movie goer is greater to or equal to the required age great or enjoy the film.\n",
    "if the movie goer\n"
   ]
  },
  {
   "cell_type": "code",
   "execution_count": null,
   "metadata": {},
   "outputs": [],
   "source": [
    "# An else statement runs when the if statement DIRECTLY above it evaluates to False\n",
    " age = 21\n",
    "      if age › 35:\n",
    "\n",
    "      print( 'You can vote and also run for president')\n",
    " \n",
    "   if age ›= 18:\n",
    "\n",
    "        print( 'You can vote')\n",
    " \n",
    "    else:\n",
    "\n",
    "print 'You must be at least 18 to vote'"
   ]
  },
  {
   "cell_type": "code",
   "execution_count": null,
   "metadata": {},
   "outputs": [],
   "source": [
    "# An else statement runs when the if statement DIRECTLY above it evaluates to False\n",
    "    age = 55\n",
    "    \n",
    "    if age › 35:\n",
    "    print('You can vote and also run for president')\n",
    "\n",
    "if age >= 18:\n",
    "    print( 'You can vote')\n",
    " \n",
    " else:\n",
    "    print(You must he at least 18 to vote)"
   ]
  },
  {
   "cell_type": "code",
   "execution_count": null,
   "metadata": {
    "scrolled": false
   },
   "outputs": [],
   "source": [
    "number = 4\n",
    "\n",
    "\n",
    "  if number == 4 or number == • or number == 6•\n",
    "print('Number is 4-6')\n",
    "\n",
    "  if number in {4, 5, 6}:\n",
    "print('Hi')"
   ]
  },
  {
   "cell_type": "markdown",
   "metadata": {},
   "source": [
    "### Elif Statements"
   ]
  },
  {
   "cell_type": "code",
   "execution_count": null,
   "metadata": {},
   "outputs": [],
   "source": [
    "# An elif only runs when the if (or elif) directly above it evaluates to False\n",
    "# Pretend we are checking tickets at an -Rated movie. If the movie goer is an adult, just say thanks and enjoy\n",
    "# if the movie goer is 14-17, check for parent\n",
    "\n",
    "required_age = 18\n",
    "with_parent_age = 14\n",
    "has_parent = False\n",
    "\n",
    "movie_goer_age = 45\n",
    "\n",
    "\n",
    " \n",
    "    if movie_goer_age ›= required_age:\n",
    "\n",
    "print('Thanks, enjoy the film!') elif movie_goer_age ›= with_parent_age and has_parent:\n",
    "\n",
    "print(Cool beans, enjoy the film with the folks!\")\n",
    "if movie_goer_age >= required_age:\n",
    "   print('Thanks, enjoy the film!')\n",
    "elif movie goer age >= with parent age and has parent:\n",
    "   print(Cool beans, enjoy the film with the folks!')\n",
    "elif movie goer age >= with_parent_age and not has_parent:\n",
    "   print(\"You're old enough to see this with a parent, but I don't see one here.\n",
    "else\n",
    "   print('You cannot see this film until you are older.')"
   ]
  },
  {
   "cell_type": "markdown",
   "metadata": {},
   "source": [
    "### In-Class Exercise 2 <br>\n",
    "<p>Write a program that will check a person's age and adjust the ticket price. Regular ticket price is $10. Seniors (65+) get 25 percent off and children (under 0-9) are half off. Print out the ticket price at the end</p>"
   ]
  },
  {
   "cell_type": "code",
   "execution_count": null,
   "metadata": {},
   "outputs": [],
   "source": [
    "ticket = 10\n",
    "# person_age = 72 # Output: Your ticket is $7.50\n",
    "# person age = 47 # Output: Your ticket is $10\n",
    "# person_age = 8 # Output: Your ticket is $5.00\n",
    "I\n",
    "person_age = 8\n",
    "if person age >= 65:\n",
    "10\n",
    "print (\"Your ticket is $\" + str(ticket - 2.50))\n",
    "11 elif person_age >= 10 and person age < 65:\n",
    "print (\"Your ticket is $\" + str(ticket))\n",
    "else:\n",
    "14\n",
    "print( \"Your ticket is S\" + str(ticket - 5.00))"
   ]
  },
  {
   "cell_type": "markdown",
   "metadata": {},
   "source": [
    "### Lists"
   ]
  },
  {
   "cell_type": "markdown",
   "metadata": {},
   "source": [
    "##### Declaring Lists"
   ]
  },
  {
   "cell_type": "code",
   "execution_count": null,
   "metadata": {},
   "outputs": [],
   "source": [
    "# ordered collection of data; indexable; mutable; iterable; elepents of the list can be of any data type;# Ordered collection of data; indexable; mutable; iterable; elements of the list can be of any data type;\n",
    "\n",
    "list_1 = [] # Empty List declaration\n",
    "print(list 1)\n",
    "print (type(list_1))\n",
    "names = ['Mike', 'Carol', 'Allison', 'Jim', 'Bob', 'Polly']\n",
    "print (names)\n",
    "print (type(names))"
   ]
  },
  {
   "cell_type": "markdown",
   "metadata": {},
   "source": [
    "##### Indexing a List"
   ]
  },
  {
   "cell_type": "code",
   "execution_count": null,
   "metadata": {},
   "outputs": [],
   "source": [
    "# List[start: stop: step] - start in inclusive, stop is exclusive\n",
    "#0-based index\n",
    "\n",
    "\n",
    "# Sinale Index\n",
    "print(names [3])\n",
    "\n",
    "# Negative numbers start from the back\n",
    "print(names [-6])\n",
    "\n",
    "# Slice the list at index 1 and go to the end (Leave the stop empty)\n",
    "print(names [1:1)\n",
    "\n",
    "# Slice the list at index 1 up to but not including index 5\n",
    "print(names [1:51)\n",
    "\n",
    "# Slice from the beginning of the list to a certain index (but not including) (leave the start empty)\n",
    "print(names[:51)\n",
    "\n",
    "                \n",
    "# Slice every other element in the list\n",
    "print(names [::2)\n",
    "\n",
    "# Negative steps will walk backwards through the list - create a reversed copy of list\n",
    "print(names [I: -1])\n",
    "             \n",
    "# Combo Timel\n",
    "print(names [1:5:2])"
   ]
  },
  {
   "cell_type": "code",
   "execution_count": null,
   "metadata": {},
   "outputs": [],
   "source": [
    "# Lists are mutable - meaing you can changes the values using item assignment\n",
    "# Item assianment\n",
    "#List[index] = value\n",
    "\n",
    "print (names)\n",
    "\n",
    "names [31 = \"James'\n",
    "print (names)"
   ]
  },
  {
   "cell_type": "code",
   "execution_count": null,
   "metadata": {},
   "outputs": [],
   "source": [
    "# Strings are IMmutable\n",
    "my_string = 'Hello World'\n",
    "print(my_string)\n",
    "my_string[1] = 'E'\n",
    "print(my_string)"
   ]
  },
  {
   "cell_type": "code",
   "execution_count": null,
   "metadata": {},
   "outputs": [],
   "source": [
    "# List.append(value) -> Add the value to the end of the list\n",
    "print(names)\n",
    "names.append('Brian')\n",
    "\n",
    "print(names)"
   ]
  },
  {
   "cell_type": "code",
   "execution_count": null,
   "metadata": {},
   "outputs": [],
   "source": [
    "##### .insert()"
   ]
  },
  {
   "cell_type": "code",
   "execution_count": null,
   "metadata": {},
   "outputs": [],
   "source": [
    "\n",
    "# List. insert(index, value) -> Add the value at index and shift everything after down 1\n",
    "\n",
    "\n",
    "print(names)\n",
    "names.insert (2, 'Kevin')\n",
    "print(names)\n"
   ]
  },
  {
   "cell_type": "code",
   "execution_count": null,
   "metadata": {},
   "outputs": [],
   "source": [
    "##### .pop()"
   ]
  },
  {
   "cell_type": "code",
   "execution_count": null,
   "metadata": {},
   "outputs": [],
   "source": [
    "# default is the last value if no parameter is given\n",
    "# pop returns the element that was removed in case you want to assign it into a variableassian it into a variable\n",
    "  \n",
    "print(names)\n",
    "best_instructor = names.pop()\n",
    "print(names)\n",
    "print(best_instructor)"
   ]
  },
  {
   "cell_type": "code",
   "execution_count": null,
   "metadata": {},
   "outputs": [],
   "source": [
    "\n",
    "##### .remove()"
   ]
  },
  {
   "cell_type": "code",
   "execution_count": null,
   "metadata": {},
   "outputs": [],
   "source": [
    "\n",
    "names.append('Bob')\n",
    "names.append('Mike')\n",
    "names.append('Bob')\n",
    " \n",
    "    print(names)"
   ]
  },
  {
   "cell_type": "code",
   "execution_count": null,
   "metadata": {},
   "outputs": [],
   "source": [
    "# value to be removed ,\n",
    "# list. remove value to remove - remove the FIRST value that matches\n",
    "\n",
    "names.remove ('Bob')\n",
    "print(names)"
   ]
  },
  {
   "cell_type": "code",
   "execution_count": null,
   "metadata": {},
   "outputs": [],
   "source": [
    "names.remove!('Bob°*2)\n",
    "names.remove('BobBob')"
   ]
  },
  {
   "cell_type": "code",
   "execution_count": null,
   "metadata": {},
   "outputs": [],
   "source": [
    "while 'Bob' in names:\n",
    "names.remove ('Bob')\n",
    "print(names)"
   ]
  },
  {
   "cell_type": "code",
   "execution_count": null,
   "metadata": {},
   "outputs": [],
   "source": [
    "while 'Bob' in names:\n",
    "names.remove ('Bob')\n",
    "print (names)"
   ]
  },
  {
   "cell_type": "code",
   "execution_count": null,
   "metadata": {},
   "outputs": [],
   "source": [
    "##### del()"
   ]
  },
  {
   "cell_type": "code",
   "execution_count": 3,
   "metadata": {},
   "outputs": [
    {
     "ename": "SyntaxError",
     "evalue": "cannot delete function call (510559311.py, line 7)",
     "output_type": "error",
     "traceback": [
      "\u001b[0;36m  Cell \u001b[0;32mIn[3], line 7\u001b[0;36m\u001b[0m\n\u001b[0;31m    del nammes(1)\u001b[0m\n\u001b[0m        ^\u001b[0m\n\u001b[0;31mSyntaxError\u001b[0m\u001b[0;31m:\u001b[0m cannot delete function call\n"
     ]
    }
   ],
   "source": [
    "# index to be removed, not value\n",
    "# BE CAREFUL with del, can cause indexing errors if not used carefully\n",
    "\n",
    "print(names)\n",
    "\n",
    "\n",
    "del nammes(1)\n",
    "\n",
    "\n",
    "print (names)"
   ]
  },
  {
   "cell_type": "code",
   "execution_count": 4,
   "metadata": {},
   "outputs": [
    {
     "ename": "SyntaxError",
     "evalue": "invalid syntax (2846860007.py, line 8)",
     "output_type": "error",
     "traceback": [
      "\u001b[0;36m  Cell \u001b[0;32mIn[4], line 8\u001b[0;36m\u001b[0m\n\u001b[0;31m    name clear()\u001b[0m\n\u001b[0m         ^\u001b[0m\n\u001b[0;31mSyntaxError\u001b[0m\u001b[0;31m:\u001b[0m invalid syntax\n"
     ]
    }
   ],
   "source": [
    "##.clear<\n",
    "\n",
    "\n",
    "# remove all values from the list\n",
    "\n",
    "print(names)\n",
    "\n",
    "name clear()\n",
    "\n",
    "print(names)"
   ]
  },
  {
   "cell_type": "markdown",
   "metadata": {},
   "source": [
    "##### Concatenating Two Lists"
   ]
  },
  {
   "cell_type": "code",
   "execution_count": null,
   "metadata": {},
   "outputs": [],
   "source": [
    "# will append two lists together, not add up the elements in each list\n",
    "\n",
    "  1_1 [1,2,3,4]\n",
    "   1_2 = [5,6,7,8]\n",
    " L_3 1_2= 1-1 +1_2\n",
    "(print) 1_3"
   ]
  },
  {
   "cell_type": "markdown",
   "metadata": {},
   "source": [
    "##### Lists Within Lists"
   ]
  },
  {
   "cell_type": "code",
   "execution_count": null,
   "metadata": {},
   "outputs": [],
   "source": [
    "list-of_list =(\n",
    "   [1,2,3]\n",
    "   [4,5,6]\n",
    "   [7,8,9]\n",
    "    \n",
    "    \n",
    "    "
   ]
  },
  {
   "cell_type": "code",
   "execution_count": null,
   "metadata": {
    "scrolled": true
   },
   "outputs": [],
   "source": [
    "# Create an empty list called names\n",
    "names = []\n",
    "\n",
    "# Add some names to the list\n",
    "names.extend(['Dan', 'Billy', 'Megan', 'Jim', 'David', 'Holly', 'Kevin'])\n",
    "print(names)\n",
    "\n",
    "# Loop through the list and print the type of each element\n",
    "for element in names:\n",
    "    print(type(element))\n",
    "\n",
    "# Access and append to a specific element of the list\n",
    "names[4].append('Brian')\n",
    "print(names[4])\n"
   ]
  },
  {
   "cell_type": "markdown",
   "metadata": {},
   "source": [
    "### For Loops"
   ]
  },
  {
   "cell_type": "code",
   "execution_count": null,
   "metadata": {},
   "outputs": [],
   "source": [
    "# for <keyword> in <iterables>:\n",
    "#    <statement>\n",
    "\n",
    "print('Begin Loop')\n",
    "for x in [5, 10, 15, 20, 25, 30]:\n",
    "    print(x)\n",
    "print('End Loop')\n"
   ]
  },
  {
   "cell_type": "code",
   "execution_count": null,
   "metadata": {},
   "outputs": [],
   "source": [
    "numbers = [1, 2, 3, 4, 5]\n",
    "for num in numbers:\n",
    "    if num == 3:\n",
    "        break\n",
    "    print(num)\n",
    "print(\"Loop is finished\")\n"
   ]
  },
  {
   "cell_type": "code",
   "execution_count": null,
   "metadata": {},
   "outputs": [],
   "source": [
    "name = 'Brian'\n",
    "for letter in name:\n",
    "    print(letter)\n"
   ]
  },
  {
   "cell_type": "code",
   "execution_count": null,
   "metadata": {},
   "outputs": [],
   "source": [
    "##### Continue Statement"
   ]
  },
  {
   "cell_type": "code",
   "execution_count": null,
   "metadata": {},
   "outputs": [],
   "source": [
    "list_to_use = [10, 20, 30, 40, 50, 60, 70, 80, 90]"
   ]
  },
  {
   "cell_type": "code",
   "execution_count": null,
   "metadata": {},
   "outputs": [],
   "source": [
    "# will continue to next iteration"
   ]
  },
  {
   "cell_type": "code",
   "execution_count": null,
   "metadata": {},
   "outputs": [],
   "source": [
    "for element in list_to_use:\n",
    "if element == 50:\n",
    "continue\n",
    "print element"
   ]
  },
  {
   "cell_type": "markdown",
   "metadata": {},
   "source": [
    "##### Break Statement"
   ]
  },
  {
   "cell_type": "code",
   "execution_count": null,
   "metadata": {},
   "outputs": [],
   "source": [
    "# will break out of current loop"
   ]
  },
  {
   "cell_type": "code",
   "execution_count": null,
   "metadata": {},
   "outputs": [],
   "source": [
    "numbers = [1, 2, 3, 4, 5]\n",
    "for num in numbers:\n",
    "    if num == 3:\n",
    "        break\n",
    "    print(num)\n",
    "print(\"Loop is finished\")\n"
   ]
  },
  {
   "cell_type": "markdown",
   "metadata": {},
   "source": [
    "##### Pass Statement"
   ]
  },
  {
   "cell_type": "code",
   "execution_count": null,
   "metadata": {},
   "outputs": [],
   "source": [
    "# mostly used as a placeholder, and will continue on same iteration"
   ]
  },
  {
   "cell_type": "code",
   "execution_count": null,
   "metadata": {
    "scrolled": true
   },
   "outputs": [],
   "source": [
    "def some_func():\n",
    "    # (update letter)\n",
    "    pass\n"
   ]
  },
  {
   "cell_type": "code",
   "execution_count": null,
   "metadata": {},
   "outputs": [],
   "source": [
    "# Do something here - come back and implement later\n",
    "for num_in_list_to_use:\n",
    "    \n",
    "    pass\n",
    "    \n",
    "print('Hello World')"
   ]
  },
  {
   "cell_type": "code",
   "execution_count": null,
   "metadata": {},
   "outputs": [],
   "source": [
    "def_some_func():\n",
    "    # Update_later\n",
    "    pass\n",
    "\n",
    "some_func()"
   ]
  },
  {
   "cell_type": "markdown",
   "metadata": {},
   "source": [
    "##### Nested/Double For Loops"
   ]
  },
  {
   "cell_type": "code",
   "execution_count": null,
   "metadata": {},
   "outputs": [],
   "source": [
    " for num in range(2,101):\n",
    "    for divisor in range(3,num//2+1):\n",
    "if numn % divisor == 0:\n",
    "       break\n",
    "elese:\n",
    "    \n",
    "print(num)\n"
   ]
  },
  {
   "cell_type": "code",
   "execution_count": null,
   "metadata": {},
   "outputs": [],
   "source": [
    "### While Loops"
   ]
  },
  {
   "cell_type": "code",
   "execution_count": null,
   "metadata": {},
   "outputs": [],
   "source": [
    "\n",
    "while True:\n",
    "    ask = input('What would you like to do? ')\n",
    "    if ask == 'quit':\n",
    "        break\n",
    "    else:\n",
    "        print(f\"you want to {ask}\")"
   ]
  },
  {
   "cell_type": "code",
   "execution_count": null,
   "metadata": {},
   "outputs": [],
   "source": [
    "from random import randint\n",
    "\n",
    "random_number = randint(1, 10)\n",
    "\n",
    "while random_number != 5:\n",
    "    print(random_number)\n",
    "    random_number = randint(1, 10)\n",
    "\n",
    "print('Finally, the random number is:', random_number)\n"
   ]
  },
  {
   "cell_type": "code",
   "execution_count": null,
   "metadata": {},
   "outputs": [],
   "source": []
  },
  {
   "cell_type": "markdown",
   "metadata": {},
   "source": [
    "##### Looping 'While True'"
   ]
  },
  {
   "cell_type": "code",
   "execution_count": null,
   "metadata": {},
   "outputs": [],
   "source": [
    "while True:\n",
    "    ask = input('What would you like to do? ')\n",
    "    if ask == 'quit':\n",
    "        break\n",
    "    else:\n",
    "        print(f\"you want to {ask}\")"
   ]
  },
  {
   "cell_type": "markdown",
   "metadata": {},
   "source": [
    "### Built-In Functions"
   ]
  },
  {
   "cell_type": "markdown",
   "metadata": {},
   "source": [
    "##### input()"
   ]
  },
  {
   "cell_type": "code",
   "execution_count": null,
   "metadata": {},
   "outputs": [],
   "source": [
    "# input(question) => ALWAYS RETURNS A STRING\n"
   ]
  },
  {
   "cell_type": "code",
   "execution_count": null,
   "metadata": {},
   "outputs": [],
   "source": []
  },
  {
   "cell_type": "markdown",
   "metadata": {},
   "source": [
    "##### range()"
   ]
  },
  {
   "cell_type": "code",
   "execution_count": null,
   "metadata": {},
   "outputs": [],
   "source": [
    "#Start, Stop, Step\n"
   ]
  },
  {
   "cell_type": "markdown",
   "metadata": {},
   "source": [
    "##### len()"
   ]
  },
  {
   "cell_type": "code",
   "execution_count": null,
   "metadata": {},
   "outputs": [],
   "source": [
    "# check Length of variable\n"
   ]
  },
  {
   "cell_type": "code",
   "execution_count": null,
   "metadata": {},
   "outputs": [],
   "source": []
  },
  {
   "cell_type": "markdown",
   "metadata": {},
   "source": [
    "##### help()"
   ]
  },
  {
   "cell_type": "code",
   "execution_count": null,
   "metadata": {},
   "outputs": [],
   "source": [
    "# Use this function to view more info about a python function (With a DOCSTRING)\n"
   ]
  },
  {
   "cell_type": "markdown",
   "metadata": {},
   "source": [
    "##### isinstance()"
   ]
  },
  {
   "cell_type": "code",
   "execution_count": null,
   "metadata": {},
   "outputs": [],
   "source": [
    "# Check a variable to find out what Object family it belongs to\n",
    "# isinstace(var, type)\n"
   ]
  },
  {
   "cell_type": "markdown",
   "metadata": {},
   "source": [
    "### Try and Except"
   ]
  },
  {
   "cell_type": "code",
   "execution_count": 38,
   "metadata": {
    "scrolled": true
   },
   "outputs": [
    {
     "name": "stdout",
     "output_type": "stream",
     "text": [
      "Guess a number: 10\n",
      "That is incorrect. Please guess again.\n",
      "Guess a number: 3\n",
      "That is incorrect. Please guess again.\n",
      "Guess a number: 4\n",
      "That is incorrect. Please guess again.\n",
      "Guess a number: 6\n",
      "That is incorrect. Please guess again.\n",
      "Guess a number: 5\n",
      "Congratulations, you correctly guessed the number: 5\n"
     ]
    }
   ],
   "source": [
    "# Use try-except whenever you expect to encounter a bug so that the error doesn't cause the program to stop\n",
    "# Use logging to log out graceful and useful error messages\n",
    "\n",
    "import logging\n",
    "\n",
    "number_text = 5\n",
    "\n",
    "while True:\n",
    "    try:\n",
    "        input_num = int(input('Guess a number: '))\n",
    "        if input_num == number_text:\n",
    "            print(f'Congratulations, you correctly guessed the number: {number_text}')\n",
    "            break\n",
    "        else:\n",
    "            print('That is incorrect. Please guess again.')\n",
    "    except ValueError:\n",
    "        logging.exception('An error occurred while converting user input to an integer.')\n",
    "        print('That did not work. Your input must be a number.')\n"
   ]
  },
  {
   "cell_type": "code",
   "execution_count": 39,
   "metadata": {},
   "outputs": [
    {
     "name": "stdout",
     "output_type": "stream",
     "text": [
      "Hello, I am going to attempt to divide by zero.\n",
      "You cannot divide by zero, what were you thinking?\n"
     ]
    }
   ],
   "source": [
    "try:\n",
    "    print(\"Hello, I am going to attempt to divide by zero.\")\n",
    "    num = 7 / 0\n",
    "    print('I was successful.')\n",
    "    num.append('hello')\n",
    "except ZeroDivisionError:\n",
    "    print('You cannot divide by zero, what were you thinking?')\n",
    "except Exception:\n",
    "    print('There was a different issue.')\n",
    "\n",
    "      "
   ]
  },
  {
   "cell_type": "markdown",
   "metadata": {},
   "source": [
    "##### Looping Through Lists"
   ]
  },
  {
   "cell_type": "code",
   "execution_count": 37,
   "metadata": {},
   "outputs": [
    {
     "name": "stdout",
     "output_type": "stream",
     "text": [
      "Chicago\n",
      "New York\n",
      "Los Angeles\n",
      "Phoenix\n",
      "Philadelphia\n",
      "San Francisco\n",
      "Chicago\n",
      "New York\n",
      "Los Angeles\n",
      "Phoenix\n",
      "Philadelphia\n",
      "San Francisco\n",
      "0 Chicago\n",
      "1 New York\n",
      "2 Los Angeles\n",
      "3 Phoenix\n",
      "4 Philadelphia\n",
      "5 San Francisco\n",
      "0\n",
      "1\n",
      "2\n",
      "3\n",
      "4\n"
     ]
    }
   ],
   "source": [
    "# Two ways to loop through a list, using range for index and 'in' for values\n",
    "new_list = ['Chicago', 'New York', 'Los Angeles', 'Phoenix', 'Philadelphia', 'San Francisco']\n",
    "\n",
    "# Loop with a for loop (By Index)\n",
    "for i in range(len(new_list)):\n",
    "     print(new_list[i])\n",
    "\n",
    "# Loop with a for loop (Using the 'in' keyword)\n",
    "for city in new_list:\n",
    "      print(city)\n",
    "\n",
    "# Loop with a for loop using enumerate to get both index and value\n",
    "for index, value in enumerate(new_list):\n",
    "      print(index, value)\n",
    "\n",
    "# Loop with a for loop using range to represent index\n",
    "for i in range(5):\n",
    "      print(i)\n"
   ]
  },
  {
   "cell_type": "markdown",
   "metadata": {},
   "source": [
    "## Exercise #1 <br>\n",
    "<p>Cube Number Test... Print out all cubed numbers up to the total value 1000. Meaning that if the cubed number is over 1000 break the loop.</p>"
   ]
  },
  {
   "cell_type": "code",
   "execution_count": null,
   "metadata": {},
   "outputs": [],
   "source": [
    "list_num = []\n",
    "num = 1\n",
    "while True:\n",
    "    cube = num ** 3\n",
    "    if cube > 1000:\n",
    "        break\n",
    "    list_num.append(cube)\n",
    "    num += 1\n",
    "\n",
    "print(list_num)\n",
    "\n",
    "        \n"
   ]
  },
  {
   "cell_type": "markdown",
   "metadata": {},
   "source": [
    "## Exercise #2 <br>\n",
    "<p>Get first prime numbers up to 100</p>"
   ]
  },
  {
   "cell_type": "code",
   "execution_count": null,
   "metadata": {},
   "outputs": [],
   "source": [
    "# HINT::\n",
    "# An else after an if runs if the if didn’t\n",
    "# An else after a for runs if the for didn’t break\n",
    "\n",
    "prime_numbers = []\n",
    "\n",
    "for num in range(2, 101):\n",
    "    for i in range(2, num):\n",
    "        if (num % i) == 0:\n",
    "            break\n",
    "    else:\n",
    "        prime_numbers.append(num)\n",
    "\n",
    "print(prime_numbers)\n",
    "\n"
   ]
  },
  {
   "cell_type": "markdown",
   "metadata": {},
   "source": [
    "# Exercise 3 <br>\n",
    "<p>Take in a users input for their age, if they are younger than 18 print kids, if they're 18 to 65 print adults, else print seniors</p>"
   ]
  },
  {
   "cell_type": "code",
   "execution_count": null,
   "metadata": {},
   "outputs": [],
   "source": [
    "# * BONUS *\n",
    "\n",
    "age = input('What is your age? ')\n",
    "print(age, type(age))"
   ]
  },
  {
   "cell_type": "code",
   "execution_count": null,
   "metadata": {},
   "outputs": [],
   "source": [
    "age = int(input('What is your age? '))\n",
    "if age < 18:\n",
    "    print(f\"I'm {age} years old, so I'm a kid.\")\n",
    "elif age >= 18 and age <= 65:\n",
    "    print(f\"I'm {age} years old, so I'm an adult.\")\n",
    "else:\n",
    "    print(f\"I'm {age} years old, so I'm a senior.\")\n"
   ]
  }
 ],
 "metadata": {
  "kernelspec": {
   "display_name": "Python 3 (ipykernel)",
   "language": "python",
   "name": "python3"
  },
  "language_info": {
   "codemirror_mode": {
    "name": "ipython",
    "version": 3
   },
   "file_extension": ".py",
   "mimetype": "text/x-python",
   "name": "python",
   "nbconvert_exporter": "python",
   "pygments_lexer": "ipython3",
   "version": "3.10.9"
  }
 },
 "nbformat": 4,
 "nbformat_minor": 2
}
